{
 "cells": [
  {
   "cell_type": "markdown",
   "id": "d8824d32",
   "metadata": {},
   "source": [
    "# Project 2"
   ]
  },
  {
   "cell_type": "markdown",
   "id": "0423d0c3",
   "metadata": {},
   "source": [
    "## Scientific Question: Why do tea leaves (Camellia sinensis) have a different caffeine content than the same amount of coffee beans (Coffea arabica)?"
   ]
  },
  {
   "cell_type": "markdown",
   "id": "75668ea0",
   "metadata": {},
   "source": [
    "Caffeine is a methylxanthine alkaloid found in a variety of plants, most notably Camellia sinensis (tea) and Coffea arabica (coffee), and is favored by many due to its stimulant nature. Caffeine inhibits adenosine-mediated downregulation of CNS activity and promotes neurotransmitter release that further stimulates the CNS (https://ncithesaurus.nci.nih.gov/ncitbrowser/ConceptReport.jsp?dictionary=NCI_Thesaurus&ns=ncit&code=C328). Caffeine biosynthesis in both tea and coffee plants mainly follows this pathway: xanthosine → 7-methylxanthosine → 7-methylxanthine → theobromine → caffeine (https://www.researchgate.net/figure/Caffeine-biosynthetic-pathway-in-tea-plants-showing-the-genes-studied-in-this-work-IMP_fig1_5323113#:~:text=The%20main%20biosynthetic%20pathway%20is,slow%20in%20caffeine%2Daccumulating%20plants). The enzymes involved in the synthesis of caffeine are N-methyltransferases, which transfer methyl groups from S-adenosyl-L-methionine onto caffeine precursors (https://www.ncbi.nlm.nih.gov/pmc/articles/PMC1165278/pdf/biochemj00564-0092.pdf). In tea plants, tea caffeine synthase 1 (TCS1) catalyzes the final two steps of caffeine synthesis, converting 7-methylxanthine to thebromine and theobromine to caffeine. In coffee plants, the final two steps of caffeine synthesis are catalyzed by CaMXMT and CaDXMT1, respectively (https://www.pnas.org/doi/10.1073/pnas.1602575113). CaDXMT2 has been studied relatively recently and is thought to catalyze the last two steps of caffeine synthesis, just as TCS1 does.\n",
    "\n",
    "The protein sequences and structures for TCS1 and CaDXMT can be found on the UniProt database (https://www.uniprot.org/). As stated on this database's website: \n",
    "\n",
    "\"The Universal Protein Resource (UniProt) is a comprehensive resource for protein sequence and annotation data. The UniProt databases are the UniProt Knowledgebase (UniProtKB), the UniProt Reference Clusters (UniRef), and the UniProt Archive (UniParc). The UniProt consortium and host institutions EMBL-EBI, SIB and PIR are committed to the long-term preservation of the UniProt databases. \n",
    "\n",
    "UniProt is a collaboration between the European Bioinformatics Institute (EMBL-EBI), the SIB Swiss Institute of Bioinformatics and the Protein Information Resource (PIR). Across the three institutes more than 100 people are involved through different tasks such as database curation, software development and support.\n",
    "\n",
    "EMBL-EBI and SIB together used to produce Swiss-Prot and TrEMBL, while PIR produced the Protein Sequence Database (PIR-PSD). These two data sets coexisted with different protein sequence coverage and annotation priorities. TrEMBL (Translated EMBL Nucleotide Sequence Data Library) was originally created because sequence data was being generated at a pace that exceeded Swiss-Prot's ability to keep up. Meanwhile, PIR maintained the PIR-PSD and related databases, including iProClass, a database of protein sequences and curated families. In 2002 the three institutes decided to pool their resources and expertise and formed the UniProt consortium.\""
   ]
  },
  {
   "cell_type": "markdown",
   "id": "b7f21d74",
   "metadata": {},
   "source": [
    "## Scientific Hypothesis: If caffeine synthases, such as TCS1 and CaDXMT1/CaDXMT2, are known to be essential to the caffeine synthesis pathway and known to have similar expression levels in Camellia sinensis and Coffea arabica, respectively, then it is likely that the difference in caffeine content between the two species comes from differences in the enzyme structures."
   ]
  },
  {
   "cell_type": "markdown",
   "id": "d309fcfa",
   "metadata": {},
   "source": [
    "There were many different known and proposed caffeine synthases from a variety of species identified from the UniProt database. Protein sequences for TCS1A, TCS1E, CaDXMT1, and CaDXMT2 were identified on UniProt and saved as a fasta file that was then read in here for a pairwise alignment analysis, the first bioinformatics analysis done in this notebook.\n",
    "\n",
    "Pairwise sequence alignment is used to identify regions of similarity between two sequences (protein sequences in this case) that may indicate functional, structural and/or evolutionary relationships.\n",
    "\n",
    "Understanding the sequences of these compounds is important to contextualize the similarity of these compounds and interpreting interpreting the heat map results. The second bioinformatics analyses done in this notebook are structural bioinformatics.\n",
    "\n",
    "Protein structures for TCS1A, TCS1E, CaDXMT1, and CaDXMT2 were identified on SwissProt and saved as 4 .pdb files that were then read in here. 3D measurements of atom-atom distances between certain residues of TCS1/CaDXMT were inspected to show strucutral differences between the two enzymes. \n",
    "\n",
    "To answer this scientific question and test my hypothesis, I searched for TCS1 and CaDXMT (3,7-dimethylxanthine N-methyltransferase) on UniProt and I then downloaded fasta file with all four sequences and a pdb file for each individual protein. That is the data I imported here."
   ]
  },
  {
   "cell_type": "markdown",
   "id": "a2f6082f",
   "metadata": {},
   "source": [
    "## Part 1: Load the Packages\n",
    "\n",
    "numpy: NumPy stands for Numerical Python. It is a Python library used for working with arrays, which can be processed 50x faster than default Python lists. Numpy arrays are fater than lists because they are stored at one continuous place in memory using references. Arrays are very useful in data science, where speed and resources are two very important factors to consider. NumPy also has functions for linear algebra, fourier transform, and matrices. (https://www.w3schools.com/python/numpy/numpy_intro.asp) \n",
    "\n",
    "matplotlib: Matplotlib is a library for creating static, animated, and interactive visualizations in Python. Most of the Matplotlib utilites are in the pyplot submodule. With this package, many different types of visualizations, such as line plots, scatter plots, and histograms. Titles, axes, colors, sizes, and other aspects of a visual can be altered with Matplotlib. Figures created with Matplotlib are also interactive in that they can be resized, zoomed in/out on, and updated. (https://matplotlib.org/)\n",
    "\n",
    "nglview: NGLview is an IPython/Jupyter widget that allows for interactive visualizations of molecular structures and trajectories. This is especially useful for visualizing the 3D strucutres of proteins and other biological molecules. NGLview can read structures/trajectories from a variety of different file formats such as RCSB, PDB, and simpletraj. This project used PDB files. NGLview utilises the embeddable NGL Viewer for rendering its images. NGLView can also be used to alter the properties of the visualization (color, size, form of structure, etc.). (https://github.com/nglviewer/nglview)\n",
    "\n",
    "biopython: Biopython is a set of freely available tools for biological computation. The source code is available under the Biopython License, which is compatible with almost every license in the world. Biopython can be used for computational biology and bioinformatics and is designed to reduce code duplication. It contains classes to represent biological sequences and is able to read a variety of file formats. For example, fasta files from databases like NCBI or UniProt. Biopython has modules to perform sequence alignment, structural bioinformatics, population genetics, phylogenetics, etc. (https://en.wikipedia.org/wiki/Biopython) \n",
    "\n",
    "itertools: Itertools is a Python module that is used to iterate over data structures that can be stepped over using a for-loop. These data structures are called iterables. Itertools is fast and memory-efficient in addition to enhancing code readability. With Itertools, lists can be flattened, combinations can be found, permutations can be performed, etc. Itertools uses \"iterator algebra\"and can work with Iterator objects. (https://www.geeksforgeeks.org/itertools-in-python3/ , https://docs.python.org/3/library/itertools.html)"
   ]
  },
  {
   "cell_type": "code",
   "execution_count": 2,
   "id": "7d364641",
   "metadata": {},
   "outputs": [
    {
     "name": "stdout",
     "output_type": "stream",
     "text": [
      "\n",
      "Note: you may need to restart the kernel to use updated packages.\n"
     ]
    },
    {
     "name": "stderr",
     "output_type": "stream",
     "text": [
      "Traceback (most recent call last):\n",
      "  File \"C:\\Users\\Luvly_000\\anaconda3\\Scripts\\conda-script.py\", line 11, in <module>\n",
      "    from conda.cli import main\n",
      "ModuleNotFoundError: No module named 'conda'\n"
     ]
    }
   ],
   "source": [
    "conda install -c conda-forge biopython"
   ]
  },
  {
   "cell_type": "code",
   "execution_count": 3,
   "id": "6a7938a4",
   "metadata": {},
   "outputs": [
    {
     "name": "stdout",
     "output_type": "stream",
     "text": [
      "\n",
      "Note: you may need to restart the kernel to use updated packages.\n"
     ]
    },
    {
     "name": "stderr",
     "output_type": "stream",
     "text": [
      "Traceback (most recent call last):\n",
      "  File \"C:\\Users\\Luvly_000\\anaconda3\\Scripts\\conda-script.py\", line 11, in <module>\n",
      "    from conda.cli import main\n",
      "ModuleNotFoundError: No module named 'conda'\n"
     ]
    }
   ],
   "source": [
    "conda install nglview -c conda-forge"
   ]
  },
  {
   "cell_type": "code",
   "execution_count": 4,
   "id": "82f8c46b",
   "metadata": {},
   "outputs": [
    {
     "name": "stdout",
     "output_type": "stream",
     "text": [
      "\n",
      "Note: you may need to restart the kernel to use updated packages.\n"
     ]
    },
    {
     "name": "stderr",
     "output_type": "stream",
     "text": [
      "Traceback (most recent call last):\n",
      "  File \"C:\\Users\\Luvly_000\\anaconda3\\Scripts\\conda-script.py\", line 11, in <module>\n",
      "    from conda.cli import main\n",
      "ModuleNotFoundError: No module named 'conda'\n"
     ]
    }
   ],
   "source": [
    "conda upgrade nglview --force"
   ]
  },
  {
   "cell_type": "code",
   "execution_count": 5,
   "id": "b84f6d33",
   "metadata": {},
   "outputs": [
    {
     "name": "stderr",
     "output_type": "stream",
     "text": [
      "Enabling notebook extension nglview-js-widgets/extension...\n",
      "      - Validating: ok\n"
     ]
    }
   ],
   "source": [
    "!jupyter-nbextension enable nglview --py --sys-prefix"
   ]
  },
  {
   "cell_type": "code",
   "execution_count": 6,
   "id": "fb8a4f22",
   "metadata": {},
   "outputs": [
    {
     "name": "stdout",
     "output_type": "stream",
     "text": [
      "\n",
      "Note: you may need to restart the kernel to use updated packages.\n"
     ]
    },
    {
     "name": "stderr",
     "output_type": "stream",
     "text": [
      "Traceback (most recent call last):\n",
      "  File \"C:\\Users\\Luvly_000\\anaconda3\\Scripts\\conda-script.py\", line 11, in <module>\n",
      "    from conda.cli import main\n",
      "ModuleNotFoundError: No module named 'conda'\n"
     ]
    }
   ],
   "source": [
    "conda install -c bioconda nglview"
   ]
  },
  {
   "cell_type": "code",
   "execution_count": 7,
   "id": "ff647ad8",
   "metadata": {},
   "outputs": [],
   "source": [
    "# Correctly import all the packages needed \n",
    "# Includes downloading packages as seen above.\n",
    "import numpy as np\n",
    "import matplotlib.pyplot as plt\n",
    "from Bio import pairwise2\n",
    "from Bio import SeqIO\n",
    "from Bio.Seq import Seq\n",
    "from Bio.PDB import *\n",
    "import nglview as ngl\n",
    "from itertools import islice"
   ]
  },
  {
   "cell_type": "markdown",
   "id": "c28a9ab0",
   "metadata": {},
   "source": [
    "## Part 2: Load in the data and perform Bioinformatics Analyses (Pairwise Sequence Analysis & Structural Bioinformatics)\n",
    "\n",
    "Fasta file format is a text-based format for representing either nucleotide sequences or peptide sequences, in which base pairs or amino acids are represented using single-letter codes. A sequence in FASTA format begins with a single-line description, followed by lines of sequence data. Pairwise sequence alignment returns alignments scores where a higher score indicates higher similarity between two sequences.\n",
    "\n",
    "PDB file format is a textual file format describing the three-dimensional structures of molecules held in the Protein Data Bank. These files list the atoms in each protein, and their 3D location in space. A typical PDB formatted file includes a large \"header\" section of text that summarizes the protein, citation information, and the details of the structure solution, followed by the sequence and a long list of the atoms and their coordinates. The archive also contains the experimental observations that are used to determine these atomic coordinates. Structural bioinformatics can give us quantitiative differences between 3D protein structures.\n",
    "\n",
    "In the code below, we read in protein sequences from a fasta file, and then perform pairwise sequence alignment between each pair of sequences. Use a for loop to iterate through all of the protein pairs to calculate the alignment scores to store in the matrix my_numpy_array.\n",
    "\n",
    "Later in the code, we read in protein structures from pdb files and perform structural bioinformatics as analyses (3D measurements) to compare the various caffeine synthases. "
   ]
  },
  {
   "cell_type": "code",
   "execution_count": 8,
   "id": "4c2c74dd",
   "metadata": {},
   "outputs": [],
   "source": [
    "# Read in the fasta file using BioPython's SeqIO built-in parse function\n",
    "# Define global variable fasta\n",
    "fasta = list(SeqIO.parse(\"DXMT1_TCS1A_DXMT2_TCS1E.fasta\", \"fasta\"))\n",
    "\n",
    "# Define the size variable to be used in the nested for loop below\n",
    "# Define global variable size\n",
    "size = len(fasta)\n",
    "\n",
    "# Initiate an empy numpy matrix that is the length of the fasta file\n",
    "# Define global variable alignments_score\n",
    "alignments_score = np.empty(shape=(size,size))"
   ]
  },
  {
   "cell_type": "markdown",
   "id": "a07e144b",
   "metadata": {},
   "source": [
    "## Part 3A: Create a heatmap (plotting method) to show the alignment scores (bioinformatics method) between all compounds in the set.\n",
    "\n",
    "A heatmap is a plotting method that colors the levels of some feature that can be defined by two inputs. In this case, the two inputs are two of the potential compounds from the entire list of 4 caffeine synthases. The colors here are showing the level of protein sequence similarity between the two inputs"
   ]
  },
  {
   "cell_type": "code",
   "execution_count": 9,
   "id": "c9de7a1c",
   "metadata": {},
   "outputs": [
    {
     "name": "stdout",
     "output_type": "stream",
     "text": [
      "sp|Q8H0D2|DXMT1_COFAR\n",
      "sp|Q8H0D2|DXMT1_COFAR\n",
      "sp|Q8H0D2|DXMT1_COFAR\n",
      "sp|Q8H0D2|DXMT1_COFAR\n",
      "sp|Q9FZN8|TCS1_CAMSI\n",
      "sp|Q9FZN8|TCS1_CAMSI\n",
      "sp|Q9FZN8|TCS1_CAMSI\n",
      "sp|Q9FZN8|TCS1_CAMSI\n",
      "sp|Q8H0D3|DXMT2_COFAR\n",
      "sp|Q8H0D3|DXMT2_COFAR\n",
      "sp|Q8H0D3|DXMT2_COFAR\n",
      "sp|Q8H0D3|DXMT2_COFAR\n",
      "sp|A0A0S2PM82|TCS3_CAMSI\n",
      "sp|A0A0S2PM82|TCS3_CAMSI\n",
      "sp|A0A0S2PM82|TCS3_CAMSI\n",
      "sp|A0A0S2PM82|TCS3_CAMSI\n",
      "[[384. 190. 363. 185.]\n",
      " [190. 369. 189. 348.]\n",
      " [363. 189. 384. 184.]\n",
      " [185. 348. 184. 368.]]\n"
     ]
    }
   ],
   "source": [
    "# Nested for loop to do pairwise sequence alignment for each pair of caffeine synthases\n",
    "def pairwise_seq_heatmap(my_numpy_array, size):\n",
    "    # Loop over the caffeine synthases \n",
    "    for i in range(size):\n",
    "        # Loop over the caffeine synthases again\n",
    "        for j in range(size):\n",
    "        # Define two sequences to be aligned\n",
    "        # Define local variables x and y\n",
    "            x = fasta[i].seq\n",
    "            y = fasta[j].seq\n",
    "            # Code check below\n",
    "            print(fasta[i].id)\n",
    "\n",
    "        # Use of built-in pairwise2 method gloaballxx (from biopython)\n",
    "        # Reads in two sequences (nucleotide or amino acid) and returns the\n",
    "        # sequence alignments between the two sequences with scores\n",
    "        # Get a list of the global alignments between the two sequences x and y\n",
    "        # No parameters. Identical characters have score of 1, else 0.\n",
    "        # No gap penalties.\n",
    "        # Update input array my_numpy_array\n",
    "            my_numpy_array[i,j] = int(pairwise2.align.globalxx(x, y, score_only=True))\n",
    "\n",
    "    return my_numpy_array\n",
    "\n",
    "# Call the pairwise_seq_heatmap function defined above with arguments alignments_score and size\n",
    "# Define global variable My_alignment_Scores\n",
    "My_alignment_Scores = pairwise_seq_heatmap(alignments_score, size)\n",
    "# Check that the for loop correctly created the matrix\n",
    "print(My_alignment_Scores)"
   ]
  },
  {
   "cell_type": "code",
   "execution_count": 10,
   "id": "e3466a12",
   "metadata": {},
   "outputs": [
    {
     "data": {
      "image/png": "[encoded data removed]",
      "text/plain": [
       "<Figure size 432x288 with 2 Axes>"
      ]
     },
     "metadata": {
      "needs_background": "light"
     },
     "output_type": "display_data"
    }
   ],
   "source": [
    "# Create subplots\n",
    "# Define global variables fig and ax\n",
    "fig, ax = plt.subplots()\n",
    "\n",
    "# Actually show the heatplot with matplotlib built-in imshow function\n",
    "plt.imshow(alignments_score)\n",
    "\n",
    "# Construct the heat map to show the axes\n",
    "# Define global variable im\n",
    "im = ax.imshow(alignments_score)\n",
    "\n",
    "# Add a colorbar to the right of the heatmap\n",
    "# Define global variable cbar\n",
    "cbar = ax.figure.colorbar(im)\n",
    "\n",
    "# Show the plot\n",
    "plt.show()"
   ]
  },
  {
   "cell_type": "markdown",
   "id": "1eec54d4",
   "metadata": {},
   "source": [
    "## Part 4.1: Analysis of the results (heat map)\n",
    "\n",
    "The plot above shows the similarities between protein sequences of, in order, TCS1A, DXMT1, TCS1E, and DXMT2. All four enzymes were downloaded from the UniProt. Caffeine synthases that are more similar to one another have a higher pairwise alignment score (closer to 380 & yellow) and those that are less similar to one another have a lower pairwise alignment score (closer to 200 & purple). Each cell in the matrix represents a pairwise alignment score score. The central diagonal all yellow because these are comparing the similarity between a compound and itself. The two TCS1 enzymes (TCS1A and TCS1E) have a high similarity with a pairwise alignment score of around 360. The two CaDXMT enzymes (DXMT1 and DXMT2) have a slightly lower sequence similarity with a pairwise alignment score of around 340. However, pairs of enzymes between species (i.e. TCS1A and DXMT1 or 2) have very low pairwise alignment scores, around 200, indicating around 50% difference between these sequences (200 similarities out of about 400 amino acids total)."
   ]
  },
  {
   "cell_type": "code",
   "execution_count": 17,
   "id": "768bc7d3",
   "metadata": {},
   "outputs": [],
   "source": [
    "# Function to find the index of the nth occurrence of a specified\n",
    "# value (res_name) in an interable such as a list\n",
    "def nth_index(iterable, res_name, n):\n",
    "    # loop through iterable and use enumerate() to get index values\n",
    "    # that match list elements matching res_name\n",
    "    # Define local variable matches\n",
    "    matches = (idx for idx, val in enumerate(iterable) if val.get_resname() == res_name)\n",
    "    # Use islice() from itertools to get the index value of the nth occurrence\n",
    "    return next(islice(matches, n-1, n), None)"
   ]
  },
  {
   "cell_type": "code",
   "execution_count": 26,
   "id": "a88e54af",
   "metadata": {},
   "outputs": [],
   "source": [
    "# Create a PDBParser object in order to read in pdb files\n",
    "# Define global variable parser\n",
    "parser = PDBParser()\n",
    "\n",
    "# Use the parser to read in the TCS1A pdb file\n",
    "# Define global variable tcs1a_pdb\n",
    "tcs1a_pdb = parser.get_structure('TCS1A', 'AF-Q9FZN8-F1-model_v2.pdb')\n",
    "# Use nglview's built-in function show_biopython to get the protein structure\n",
    "# Define global variable tcs1a_structure\n",
    "tcs1a_structure = ngl.show_biopython(tcs1a_pdb)\n",
    "\n",
    "# Get the residues of the protein as an ordered list\n",
    "# Define global variable res_list\n",
    "res_list = Selection.unfold_entities(tcs1a_pdb, \"R\")"
   ]
  },
  {
   "cell_type": "code",
   "execution_count": 29,
   "id": "9d3c65de",
   "metadata": {},
   "outputs": [
    {
     "name": "stdout",
     "output_type": "stream",
     "text": [
      "6\n",
      "GLY\n",
      "GLY\n",
      "GLY Distance: 22.520088\n",
      "PRO Distance: 18.609608\n",
      "CYS Distance: 26.559496\n"
     ]
    }
   ],
   "source": [
    "# Use nth_index() to find the first occurrence of GLY in TCS1A\n",
    "# Define global variable first_gly_index\n",
    "first_gly_index = nth_index(res_list, 'GLY', 1)\n",
    "# Use nth_index() to find the second occurrence of GLY in TCS1A\n",
    "# Define global variable second_gly_index\n",
    "second_gly_index = nth_index(res_list, 'GLY', 2)\n",
    "\n",
    "#Code check to make sure that nth_index() is working correctly\n",
    "#print(first_gly_index)\n",
    "#print(res_list[6].get_resname())\n",
    "#print(res_list[second_gly_index].get_resname())\n",
    "\n",
    "# Find the distance between first two GLY alpha carbon atoms\n",
    "# Define global variable gly_distance\n",
    "gly_distance = res_list[first_gly_index][\"CA\"] - res_list[second_gly_index][\"CA\"]\n",
    "# Check that a distance has been returned\n",
    "print ('GLY Distance: ' + str(gly_distance))\n",
    "\n",
    "# Find the distance between first two PRO alpha carbon atoms\n",
    "# Define global variable pro_distance\n",
    "pro_distance = res_list[nth_index(res_list, 'PRO', 1)][\"CA\"] - res_list[nth_index(res_list, 'PRO', 2)][\"CA\"]\n",
    "# Check that a distance has been returned\n",
    "print ('PRO Distance: ' + str(pro_distance))\n",
    "\n",
    "# Find the distance between first two CYS alpha carbon atoms\n",
    "# Define global variable cys_distance\n",
    "cys_distance = res_list[nth_index(res_list, 'CYS', 1)][\"CA\"] - res_list[nth_index(res_list, 'CYS', 2)][\"CA\"]\n",
    "# Check that a distance has been returned\n",
    "print ('CYS Distance: ' + str(cys_distance))"
   ]
  },
  {
   "cell_type": "code",
   "execution_count": 20,
   "id": "87caeb2c",
   "metadata": {},
   "outputs": [
    {
     "data": {
      "application/vnd.jupyter.widget-view+json": {
       "model_id": "9c34385f3962480bb6cabae789565583",
       "version_major": 2,
       "version_minor": 0
      },
      "text/plain": [
       "NGLWidget(n_components=1)"
      ]
     },
     "metadata": {},
     "output_type": "display_data"
    }
   ],
   "source": [
    "# View image of 3D structure of TCS1A\n",
    "tcs1a_structure"
   ]
  },
  {
   "cell_type": "code",
   "execution_count": 31,
   "id": "5740a8e3",
   "metadata": {},
   "outputs": [
    {
     "name": "stdout",
     "output_type": "stream",
     "text": [
      "GLY Distance: 3.825772\n",
      "PRO Distance: 24.8154\n",
      "CYS Distance: 17.104836\n"
     ]
    }
   ],
   "source": [
    "# Use the parser to read in the DXMT2 pdb file\n",
    "# Define global variable DXMT2\n",
    "dxmt2_pdb = parser.get_structure('DXMT2', 'AF-Q8H0D3-F1-model_v2.pdb')\n",
    "# Use nglview's built-in function show_biopython to get the protein structure\n",
    "# Define global variable dxmt2_structure\n",
    "dxmt2_structure = ngl.show_biopython(dxmt2_pdb)\n",
    "\n",
    "# Get the residues of the protein as an ordered list\n",
    "# Define global variable res_list_dxmt\n",
    "res_list_dxmt = Selection.unfold_entities(dxmt2_pdb, \"R\")\n",
    "\n",
    "# Find the distance between first two GLY alpha carbon atoms\n",
    "# Define global variable gly_distance_d\n",
    "gly_distance_d = (res_list_dxmt[nth_index(res_list_dxmt, 'GLY', 1)][\"CA\"] - \n",
    "    res_list_dxmt[nth_index(res_list_dxmt, 'GLY', 2)][\"CA\"])\n",
    "# Check that a distance has been returned\n",
    "print ('GLY Distance: ' + str(gly_distance_d))\n",
    "\n",
    "# Find the distance between first two PRO alpha carbon atoms\n",
    "# Define global variable pro_distance_d\n",
    "pro_distance_d = (res_list_dxmt[nth_index(res_list_dxmt, 'PRO', 1)][\"CA\"] - \n",
    "    res_list_dxmt[nth_index(res_list_dxmt, 'PRO', 2)][\"CA\"])\n",
    "# Check that a distance has been returned\n",
    "print ('PRO Distance: ' + str(pro_distance_d))\n",
    "\n",
    "# Find the distance between first two CYS alpha carbon atoms\n",
    "# Define global variable cys_distance_d\n",
    "cys_distance_d = (res_list_dxmt[nth_index(res_list_dxmt, 'CYS', 1)][\"CA\"] - \n",
    "    res_list_dxmt[nth_index(res_list_dxmt, 'CYS', 2)][\"CA\"])\n",
    "# Check that a distance has been returned\n",
    "print ('CYS Distance: ' + str(cys_distance_d))"
   ]
  },
  {
   "cell_type": "code",
   "execution_count": 19,
   "id": "d80a3e01",
   "metadata": {},
   "outputs": [
    {
     "data": {
      "application/vnd.jupyter.widget-view+json": {
       "model_id": "f115561d762e47ae947013ec1dfd884b",
       "version_major": 2,
       "version_minor": 0
      },
      "text/plain": [
       "NGLWidget()"
      ]
     },
     "metadata": {},
     "output_type": "display_data"
    }
   ],
   "source": [
    "# View image of 3D structure of TCS1A\n",
    "dxmt2_structure"
   ]
  },
  {
   "cell_type": "markdown",
   "id": "150ea9f7",
   "metadata": {},
   "source": [
    "## Part 4.2: Analysis of the results (structural bioinformatics)\n",
    "\n",
    "If we look at the structure of the two caffeine synthases above (TCS1A and DXMT2), the lack of similarity seen in the heat map makes sense in that caffeine synthases from Camellia sinensis are very different from caffeine synthases from Coffea arabica. Not only are the protein sequences different, but so are the protein structures. The folding and conformations of TCS1A and DXMT2 are quite different. This can be seen not only from the nglview visualizations but also from the different distances between the first and second instances of GLY, PRO, and CYS. While all amino acids in a protein sequence contribute to a protein folding and structure, PRO and CYS are especially pertinent as PRO is bulky and disrupts alpha-helices and CYS builds disulfide bridges. Since the distances are different, the folding will be different. Thus, assuming that expression levels of these two enzymes are similar in their respective plants and that they both play the same role in the caffeine biosynthesis pathway (catalyzing the final two steps), then my hypothesis is likely to be correct and the difference in caffeine content between Camellia sinensis and Coffea arabica is due to strucutral differences of their caffeine synthases."
   ]
  },
  {
   "cell_type": "code",
   "execution_count": null,
   "id": "b3cee9c7",
   "metadata": {},
   "outputs": [],
   "source": []
  },
  {
   "cell_type": "code",
   "execution_count": null,
   "id": "150cc1bd",
   "metadata": {},
   "outputs": [],
   "source": []
  }
 ],
 "metadata": {
  "kernelspec": {
   "display_name": "Python 3 (ipykernel)",
   "language": "python",
   "name": "python3"
  },
  "language_info": {
   "codemirror_mode": {
    "name": "ipython",
    "version": 3
   },
   "file_extension": ".py",
   "mimetype": "text/x-python",
   "name": "python",
   "nbconvert_exporter": "python",
   "pygments_lexer": "ipython3",
   "version": "3.9.7"
  }
 },
 "nbformat": 4,
 "nbformat_minor": 5
}
